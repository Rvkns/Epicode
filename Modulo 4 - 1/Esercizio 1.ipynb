{
 "cells": [
  {
   "cell_type": "code",
   "execution_count": 4,
   "id": "48cea0e8",
   "metadata": {},
   "outputs": [],
   "source": [
    "studenti = 25 #esercizio 1"
   ]
  },
  {
   "cell_type": "code",
   "execution_count": 5,
   "id": "e9e1f15d",
   "metadata": {},
   "outputs": [
    {
     "name": "stdout",
     "output_type": "stream",
     "text": [
      "25\n"
     ]
    }
   ],
   "source": [
    "print(studenti)"
   ]
  },
  {
   "cell_type": "code",
   "execution_count": 6,
   "id": "0c630ef7",
   "metadata": {},
   "outputs": [],
   "source": [
    "nuovi_studenti = 3 #esercizio 2"
   ]
  },
  {
   "cell_type": "code",
   "execution_count": 7,
   "id": "750cdd1b",
   "metadata": {},
   "outputs": [],
   "source": [
    "classe = studenti + nuovi_studenti #esercizio 3"
   ]
  },
  {
   "cell_type": "code",
   "execution_count": 8,
   "id": "042370e6",
   "metadata": {},
   "outputs": [
    {
     "name": "stdout",
     "output_type": "stream",
     "text": [
      "28\n"
     ]
    }
   ],
   "source": [
    "print(classe) #esercizio 4"
   ]
  },
  {
   "cell_type": "code",
   "execution_count": 9,
   "id": "e8421a8f",
   "metadata": {},
   "outputs": [],
   "source": [
    "lista = [0, 1, 2, 3, 4, 5] #esercizio 5"
   ]
  },
  {
   "cell_type": "code",
   "execution_count": 10,
   "id": "8806f797",
   "metadata": {},
   "outputs": [
    {
     "data": {
      "text/plain": [
       "[0, 1, 2, 3, 4, 5]"
      ]
     },
     "execution_count": 10,
     "metadata": {},
     "output_type": "execute_result"
    }
   ],
   "source": [
    "lista"
   ]
  },
  {
   "cell_type": "code",
   "execution_count": 11,
   "id": "ea796e22",
   "metadata": {},
   "outputs": [],
   "source": [
    "movies = [\"Watchmen\", \"Sin City\", \"Fight Club\"] #esercizio 6"
   ]
  },
  {
   "cell_type": "code",
   "execution_count": 12,
   "id": "f8e380a5",
   "metadata": {},
   "outputs": [
    {
     "name": "stdout",
     "output_type": "stream",
     "text": [
      "['Watchmen', 'Sin City', 'Fight Club']\n"
     ]
    }
   ],
   "source": [
    "print(movies)"
   ]
  }
 ],
 "metadata": {
  "kernelspec": {
   "display_name": "Python 3 (ipykernel)",
   "language": "python",
   "name": "python3"
  },
  "language_info": {
   "codemirror_mode": {
    "name": "ipython",
    "version": 3
   },
   "file_extension": ".py",
   "mimetype": "text/x-python",
   "name": "python",
   "nbconvert_exporter": "python",
   "pygments_lexer": "ipython3",
   "version": "3.9.13"
  }
 },
 "nbformat": 4,
 "nbformat_minor": 5
}
