{
 "cells": [
  {
   "cell_type": "code",
   "execution_count": 12,
   "id": "d890912e",
   "metadata": {},
   "outputs": [],
   "source": [
    "scuola = \"Epicode\""
   ]
  },
  {
   "cell_type": "code",
   "execution_count": 13,
   "id": "a4095503",
   "metadata": {},
   "outputs": [
    {
     "name": "stdout",
     "output_type": "stream",
     "text": [
      "Epicode\n"
     ]
    }
   ],
   "source": [
    "print(scuola)"
   ]
  },
  {
   "cell_type": "code",
   "execution_count": 14,
   "id": "2d1fb832",
   "metadata": {},
   "outputs": [
    {
     "data": {
      "text/plain": [
       "'E'"
      ]
     },
     "execution_count": 14,
     "metadata": {},
     "output_type": "execute_result"
    }
   ],
   "source": [
    "scuola[0]"
   ]
  },
  {
   "cell_type": "code",
   "execution_count": 15,
   "id": "e9563889",
   "metadata": {},
   "outputs": [
    {
     "data": {
      "text/plain": [
       "'Epi'"
      ]
     },
     "execution_count": 15,
     "metadata": {},
     "output_type": "execute_result"
    }
   ],
   "source": [
    "scuola[:3]"
   ]
  },
  {
   "cell_type": "code",
   "execution_count": 16,
   "id": "6168c66f",
   "metadata": {},
   "outputs": [
    {
     "data": {
      "text/plain": [
       "'EPICODE'"
      ]
     },
     "execution_count": 16,
     "metadata": {},
     "output_type": "execute_result"
    }
   ],
   "source": [
    "scuola.upper()"
   ]
  },
  {
   "cell_type": "code",
   "execution_count": 17,
   "id": "a8a9c96b",
   "metadata": {},
   "outputs": [],
   "source": [
    "x = 10"
   ]
  },
  {
   "cell_type": "code",
   "execution_count": 18,
   "id": "d2424ee2",
   "metadata": {},
   "outputs": [
    {
     "data": {
      "text/plain": [
       "36"
      ]
     },
     "execution_count": 18,
     "metadata": {},
     "output_type": "execute_result"
    }
   ],
   "source": [
    "(x + 2)*3"
   ]
  },
  {
   "cell_type": "code",
   "execution_count": 19,
   "id": "be503c64",
   "metadata": {},
   "outputs": [],
   "source": [
    "x = x+2"
   ]
  },
  {
   "cell_type": "code",
   "execution_count": 20,
   "id": "4a6343a0",
   "metadata": {},
   "outputs": [
    {
     "data": {
      "text/plain": [
       "36"
      ]
     },
     "execution_count": 20,
     "metadata": {},
     "output_type": "execute_result"
    }
   ],
   "source": [
    "x*3"
   ]
  },
  {
   "cell_type": "code",
   "execution_count": 27,
   "id": "bd2a8ad0",
   "metadata": {},
   "outputs": [
    {
     "name": "stdout",
     "output_type": "stream",
     "text": [
      "Inserire i litri di benzina presenti nel serbatoio:30\n"
     ]
    }
   ],
   "source": [
    "fuel = float(input(\"Inserire i litri di benzina presenti nel serbatoio:\"))"
   ]
  },
  {
   "cell_type": "code",
   "execution_count": 29,
   "id": "32f2a91b",
   "metadata": {},
   "outputs": [
    {
     "name": "stdout",
     "output_type": "stream",
     "text": [
      "Inserire il consumo Km per Litri:5\n"
     ]
    }
   ],
   "source": [
    "efficiency = float(input(\"Inserire il consumo Km per Litri:\"))"
   ]
  },
  {
   "cell_type": "code",
   "execution_count": 31,
   "id": "c10bfc1b",
   "metadata": {},
   "outputs": [
    {
     "name": "stdout",
     "output_type": "stream",
     "text": [
      "Inserire il prezzo della benzina per litro:1.70\n"
     ]
    }
   ],
   "source": [
    "avg_price = float(input(\"Inserire il prezzo della benzina per litro:\"))"
   ]
  },
  {
   "cell_type": "code",
   "execution_count": 35,
   "id": "dcf5a0ca",
   "metadata": {},
   "outputs": [
    {
     "name": "stdout",
     "output_type": "stream",
     "text": [
      "Il costo per 100 km è: 34.0\n"
     ]
    }
   ],
   "source": [
    "consumo = 100 / efficiency\n",
    "costo_per_100km = consumo * avg_price\n",
    "\n",
    "print(\"Il costo per 100 km è:\", costo_per_100km)"
   ]
  },
  {
   "cell_type": "code",
   "execution_count": 39,
   "id": "9266ae5d",
   "metadata": {},
   "outputs": [
    {
     "name": "stdout",
     "output_type": "stream",
     "text": [
      "Inserire una parola di almeno 7 lettere:Babbuino\n"
     ]
    }
   ],
   "source": [
    "string = input(\"Inserire una parola di almeno 7 lettere:\")"
   ]
  },
  {
   "cell_type": "code",
   "execution_count": 43,
   "id": "bdc46d76",
   "metadata": {},
   "outputs": [
    {
     "name": "stdout",
     "output_type": "stream",
     "text": [
      "Bab...ino\n"
     ]
    }
   ],
   "source": [
    "print(string[:3] + \"...\" +  string[-3:])"
   ]
  },
  {
   "cell_type": "code",
   "execution_count": 55,
   "id": "1422aeec",
   "metadata": {},
   "outputs": [
    {
     "name": "stdout",
     "output_type": "stream",
     "text": [
      "'Epicode' è compresa tra 5 ed 8 caratteri.\n",
      "'Windows' è compresa tra 5 ed 8 caratteri.\n",
      "'Excel' è compresa tra 5 ed 8 caratteri.\n",
      "La parola non è compresa tra 5 ed 8 caratteri\n",
      "La parola non è compresa tra 5 ed 8 caratteri\n"
     ]
    }
   ],
   "source": [
    "str1 = \"Epicode\"\n",
    "str2 = \"Windows\"\n",
    "str3 = \"Excel\"\n",
    "str4 = \"Powerpoint\"\n",
    "str5 = \"Word\"\n",
    "\n",
    "if 5 <= len(str1) <= 8:\n",
    "    print(f\"'{str1}' è compresa tra 5 ed 8 caratteri.\")\n",
    "else:\n",
    "    print(\"La parola non è compresa tra 5 ed 8 caratteri\")\n",
    "\n",
    "if 5 <= len(str2) <= 8:\n",
    "    print(f\"'{str2}' è compresa tra 5 ed 8 caratteri.\")\n",
    "else:\n",
    "    print(\"La parola non è compresa tra 5 ed 8 caratteri\")\n",
    "    \n",
    "if 5 <= len(str3) <= 8:\n",
    "    print(f\"'{str3}' è compresa tra 5 ed 8 caratteri.\")\n",
    "else:\n",
    "    print(\"La parola non è compresa tra 5 ed 8 caratteri\")\n",
    "    \n",
    "if 5 <= len(str4) <= 8:\n",
    "    print(f\"'{str4}' è compresa tra 5 ed 8 caratteri.\")\n",
    "else:\n",
    "    print(\"La parola non è compresa tra 5 ed 8 caratteri\")\n",
    "    \n",
    "if 5 <= len(str5) <= 8:\n",
    "    print(f\"'{str5}' è compresa tra 5 ed 8 caratteri.\")\n",
    "else:\n",
    "    print(\"La parola non è compresa tra 5 ed 8 caratteri\")    "
   ]
  },
  {
   "cell_type": "code",
   "execution_count": 56,
   "id": "6301b129",
   "metadata": {},
   "outputs": [],
   "source": [
    "codici = [\"knt-S1\", \"cba-G9\", \"qtr-Z8\"]"
   ]
  },
  {
   "cell_type": "code",
   "execution_count": 95,
   "id": "24e14151",
   "metadata": {},
   "outputs": [],
   "source": [
    "cod1 = codici[0][-3:]\n",
    "cod2 = codici[1][-3:]\n",
    "cod3 = codici[2][-3:]"
   ]
  },
  {
   "cell_type": "code",
   "execution_count": 103,
   "id": "e1387c8d",
   "metadata": {},
   "outputs": [
    {
     "name": "stdout",
     "output_type": "stream",
     "text": [
      "Gli ultimi tre caratteri delle stringhe sono:\n",
      " -S1 \n",
      " -G9 \n",
      " -Z8\n"
     ]
    }
   ],
   "source": [
    "print(\"Gli ultimi tre caratteri delle stringhe sono:\\n\", cod1, \"\\n\", cod2, \"\\n\", cod3)"
   ]
  },
  {
   "cell_type": "code",
   "execution_count": 104,
   "id": "5ccaa628",
   "metadata": {},
   "outputs": [],
   "source": [
    "newlist = [cod1, cod2, cod3]"
   ]
  },
  {
   "cell_type": "code",
   "execution_count": 105,
   "id": "b62ef098",
   "metadata": {},
   "outputs": [
    {
     "data": {
      "text/plain": [
       "['-S1', '-G9', '-Z8']"
      ]
     },
     "execution_count": 105,
     "metadata": {},
     "output_type": "execute_result"
    }
   ],
   "source": [
    "newlist"
   ]
  },
  {
   "cell_type": "code",
   "execution_count": 106,
   "id": "89d38b44",
   "metadata": {},
   "outputs": [],
   "source": [
    "growth = {\"Tesla\", \"Shopify\", \"Block\", \"Etsy\", \"MercadoLibre\", \"Netflix\", \"Amazon\", \"Meta Platforms\", \"Salesforce\", \"Alphabet\"}\n",
    "\n",
    "value = {\"Pfizer\", \"Johnson & Johnson\", \"JPMorgan Chase & Co.\", \"Wells Fargo & Co.\", \"Verizon Communications\", \"BP PLC\", \"LyondellBasell Industries\", \"MetLife\", \"Interactive Brokers Group\", \"Intel\"}\n",
    "\n",
    "tech = {\"Apple\", \"Microsoft\", \"Alphabet\", \"Amazon\", \"NVIDIA\", \"Meta Platforms\", \"Tesla\", \"Alibaba\", \"Salesforce\", \"Advanced Micro Devices\", \"Intel\", \"PayPal\", \"Activision Blizzard\", \"Electronic Arts\", \"The Trade Desk\", \"Zillow Group\", \"Match Group\", \"Yelp\"}\n",
    "\n",
    "healthcare = {\"UnitedHealth Group\", \"Johnson & Johnson\", \"Eli Lilly & Co.\", \"Novo Nordisk\", \"Merck & Co.\", \"Roche Holding\", \"Pfizer\", \"Thermo Fisher Scientific\", \"Abbott Laboratories\"}"
   ]
  },
  {
   "cell_type": "code",
   "execution_count": 111,
   "id": "3d12d93b",
   "metadata": {},
   "outputs": [
    {
     "name": "stdout",
     "output_type": "stream",
     "text": [
      "Investimento diversificato in aziende di tipo Growth e Value: \n",
      " {'Block', 'Alphabet', 'Shopify', 'Verizon Communications', 'Meta Platforms', 'Amazon', 'Etsy', 'MercadoLibre', 'Pfizer', 'Intel', 'Tesla', 'MetLife', 'JPMorgan Chase & Co.', 'BP PLC', 'Interactive Brokers Group', 'Wells Fargo & Co.', 'Johnson & Johnson', 'LyondellBasell Industries', 'Salesforce', 'Netflix'}\n"
     ]
    }
   ],
   "source": [
    "#investimento diversificato\n",
    "diversificato = growth.union(value)\n",
    "print(\"Investimento diversificato in aziende di tipo Growth e Value: \\n\" , diversificato)"
   ]
  },
  {
   "cell_type": "code",
   "execution_count": 113,
   "id": "d4ff64fb",
   "metadata": {},
   "outputs": [
    {
     "name": "stdout",
     "output_type": "stream",
     "text": [
      "Investimento in aziende tech in forte crescita: \n",
      " {'Alphabet', 'Meta Platforms', 'Amazon', 'Salesforce', 'Tesla'}\n"
     ]
    }
   ],
   "source": [
    "#investimento in aziende tecnologiche growth:\n",
    "tech_growth = tech.intersection(growth)\n",
    "print(\"Investimento in aziende tech in forte crescita: \\n\", tech_growth)"
   ]
  },
  {
   "cell_type": "code",
   "execution_count": 114,
   "id": "b02d796e",
   "metadata": {},
   "outputs": [
    {
     "name": "stdout",
     "output_type": "stream",
     "text": [
      "Investimento in aziende sia tech che value: \n",
      " {'Intel'}\n"
     ]
    }
   ],
   "source": [
    "#investimento in aziende sia tech che value\n",
    "tech_value = tech.intersection(value)\n",
    "print(\"Investimento in aziende sia tech che value: \\n\", tech_value)"
   ]
  },
  {
   "cell_type": "code",
   "execution_count": 116,
   "id": "d65aae15",
   "metadata": {},
   "outputs": [
    {
     "name": "stdout",
     "output_type": "stream",
     "text": [
      "Le aziende Healthcare che non sono value sono: \n",
      " {'UnitedHealth Group', 'Eli Lilly & Co.', 'Abbott Laboratories', 'Merck & Co.', 'Roche Holding', 'Thermo Fisher Scientific', 'Novo Nordisk'}\n"
     ]
    }
   ],
   "source": [
    "#individuare aziende healthcare che non sono value\n",
    "healthcare_not_value = healthcare.difference(value)\n",
    "print(\"Le aziende Healthcare che non sono value sono: \\n\", healthcare_not_value)"
   ]
  },
  {
   "cell_type": "code",
   "execution_count": 121,
   "id": "7e0f31d0",
   "metadata": {},
   "outputs": [
    {
     "name": "stdout",
     "output_type": "stream",
     "text": [
      "Non ci sono aziende presenti nella lista\n"
     ]
    }
   ],
   "source": [
    "#investimento in aziende sia tech che healthcare\n",
    "tech_healthcare = tech.intersection(healthcare)\n",
    "if len(tech_healthcare) == 0:\n",
    "    print(\"Non ci sono aziende presenti nella lista\")\n",
    "else:\n",
    "    print(\"Investimento in aziende Tech ed Healthcare: \\n\", tech_healthcare)"
   ]
  },
  {
   "cell_type": "code",
   "execution_count": 124,
   "id": "0f09f58e",
   "metadata": {},
   "outputs": [
    {
     "name": "stdout",
     "output_type": "stream",
     "text": [
      "Aziende tech che sono growth o value: \n",
      " {'Alphabet', 'Meta Platforms', 'Amazon', 'Salesforce', 'Intel', 'Tesla'}\n"
     ]
    }
   ],
   "source": [
    "#investimento in azioni tech solo se siano growth o value\n",
    "tech_growthorvalue = tech.intersection(growth.union(value))\n",
    "print(\"Aziende tech che sono growth o value: \\n\", tech_growthorvalue)"
   ]
  },
  {
   "cell_type": "code",
   "execution_count": null,
   "id": "13f5f4fc",
   "metadata": {},
   "outputs": [],
   "source": []
  }
 ],
 "metadata": {
  "kernelspec": {
   "display_name": "Python 3 (ipykernel)",
   "language": "python",
   "name": "python3"
  },
  "language_info": {
   "codemirror_mode": {
    "name": "ipython",
    "version": 3
   },
   "file_extension": ".py",
   "mimetype": "text/x-python",
   "name": "python",
   "nbconvert_exporter": "python",
   "pygments_lexer": "ipython3",
   "version": "3.9.13"
  }
 },
 "nbformat": 4,
 "nbformat_minor": 5
}
